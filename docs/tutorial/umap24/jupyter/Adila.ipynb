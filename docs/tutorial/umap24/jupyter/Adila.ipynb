{
 "cells": [
  {
   "cell_type": "markdown",
   "metadata": {},
   "source": [
    "# What is `Adila`?\n",
    "\n",
    "`Adila` is an extension of the `OpeNTF` framework, focusing on improving the fairness of neural team formation methods.\n",
    "\n",
    "In particular, `Adila` attempts to mitigate popularity bias (and other forms of bias) through the application of greedy re-ranking algorithms when training neural team formation methods. The algorithms include:\n",
    "- [Score maximizing greedy mitigation algorithm](https://dl.acm.org/doi/10.1145/3292500.3330691)\n",
    "- [Greedy conservative mitigation algorithm](https://dl.acm.org/doi/10.1145/3292500.3330691)\n",
    "- [Relaxed variant of greedy conservative algorithm](https://dl.acm.org/doi/10.1145/3292500.3330691)\n",
    "- [Probabilistic greedy re-ranking algorithm](https://dl.acm.org/doi/10.1145/3132847.3132938)\n",
    "\n",
    "<img src=\"https://github.com/fani-lab/Adila/raw/main/misc/flow.png\" height=300px />\n",
    "\n",
    "# Quickstart\n",
    "The following is a sample run of `Adila` using a toy dataset modelled about the DBLP dataset. The arguments it employed are:\n",
    "\n",
    "- `-fteamsvecs`: the sparse matrix representation of all teams in a pickle file.\n",
    "- `-fsplit`: the split.json file that indicates the index (rowid) of teams whose members are predicted in `--pred`.\n",
    "- `-fpred`: a file or folder that includes the prediction files of a neural team formation methods in the format of `torch.ndarray`.\n",
    "- `-np_ratio`: the desired nonpopular ratio among members of predicted teams after mitigation process by re-ranking algorithms.\n",
    "- `-reranker`: fairness-aware reranking algorithms.\n",
    "- `-output`: the path to the reranked predictions of members for teams, as well as, the teams' success and fairness evaluation before and after mitigation process."
   ]
  },
  {
   "cell_type": "code",
   "execution_count": 2,
   "metadata": {},
   "outputs": [
    {
     "name": "stdout",
     "output_type": "stream",
     "text": [
      "[WinError 2] The system cannot find the file specified: 'src'\n",
      "c:\\Users\\tea-n_\\Documents\\GitHub\\OpeNTF framework\\Adila\\src\n",
      "Parallel run started ...\n",
      "####################################################################################################\n",
      "Reranking for the baseline ../output/toy.dblp.v12.json/bnn/t31.s11.m13.l[100].lr0.1.b4096.e20.s1/f0.test.pred ...\n",
      "Loading popularity labels ...\n",
      "Loading reranking results ...\n",
      "Loading fairness evaluation results before and after reranking ...\n",
      "####################################################################################################\n",
      "Reranking for the baseline ../output/toy.dblp.v12.json/bnn/t31.s11.m13.l[100].lr0.1.b4096.e20.s1/f1.test.pred ...\n",
      "Loading utility metric evaluation results before and after reranking ...\n",
      "Loading popularity labels ...\n",
      "Loading reranking results ...\n",
      "Pipeline for the baseline ../output/toy.dblp.v12.json/bnn/t31.s11.m13.l[100].lr0.1.b4096.e20.s1/f0.test.pred completed by <SpawnProcess(SpawnPoolWorker-12, started daemon)>! 0.22400450706481934\n",
      "####################################################################################################\n",
      "####################################################################################################\n",
      "Reranking for the baseline ../output/toy.dblp.v12.json/bnn/t31.s11.m13.l[100].lr0.1.b4096.e20.s1/f2.test.pred ...\n",
      "Loading fairness evaluation results before and after reranking ...\n",
      "Loading popularity labels ...\n",
      "Loading reranking results ...\n",
      "Loading utility metric evaluation results before and after reranking ...\n",
      "Pipeline for the baseline ../output/toy.dblp.v12.json/bnn/t31.s11.m13.l[100].lr0.1.b4096.e20.s1/f1.test.pred completed by <SpawnProcess(SpawnPoolWorker-2, started daemon)>! 0.15299773216247559\n",
      "####################################################################################################\n",
      "Loading fairness evaluation results before and after reranking ...\n",
      "Loading utility metric evaluation results before and after reranking ...\n",
      "Pipeline for the baseline ../output/toy.dblp.v12.json/bnn/t31.s11.m13.l[100].lr0.1.b4096.e20.s1/f2.test.pred completed by <SpawnProcess(SpawnPoolWorker-12, started daemon)>! 0.17407584190368652\n",
      "####################################################################################################\n"
     ]
    }
   ],
   "source": [
    "# Paper link to algorithms:\n",
    "# 'det_greedy', 'det_relaxed', 'det_cons' : https://dl.acm.org/doi/10.1145/3292500.3330691\n",
    "# 'fa-ir' : https://dl.acm.org/doi/10.1145/3132847.3132938\n",
    "\n",
    "%cd src\n",
    "!python -u main.py \\\n",
    "  -fteamsvecs ../data/preprocessed/dblp/toy.dblp.v12.json/teamsvecs.pkl \\\n",
    "  -fsplit ../output/toy.dblp.v12.json/splits.json \\\n",
    "  -fpred ../output/toy.dblp.v12.json/bnn/ \\\n",
    "  -np_ratio 0.5 \\\n",
    "  -reranker det_cons \\\n",
    "  -output ../output/toy.dblp.v12.json/"
   ]
  },
  {
   "cell_type": "markdown",
   "metadata": {},
   "source": [
    "# Additional Resources\n",
    "- [`OpeNTF` codebase](https://github.com/fani-lab/OpeNTF/tree/main)\n",
    "- [`Adila` codebase](https://github.com/fani-lab/adila)\n",
    "- [`vivaFemme` codebase](https://github.com/fani-lab/OpeNTF/tree/vivaFemme)\n",
    "- [Streaming Training Strategy codebase](https://github.com/fani-lab/OpeNTF/tree/ecir24)\n",
    "- [Tutorial Website and Materials](https://fani-lab.github.io/OpeNTF/tutorial/umap24/)\n",
    "    - [`OpeNTF` paper](https://doi.org/10.1145/3511808.3557526)\n",
    "    - [`Adila` paper](https://doi.org/10.1007/978-3-031-37249-0_9)\n",
    "    - [`vivaFemme` paper](https://hosseinfani.github.io/res/papers/2024_BIAS_SIGIR_vivaFemme_Mitigating_Gender_Bias_in_Neural_Team_Recommendation_via_Female-Advocate_Loss_Regularization.pdf)\n",
    "    - [Streaming Training Strategy paper](https://link.springer.com/chapter/10.1007/978-3-031-56027-9_20)\n",
    "\n",
    "<img src=\"./qr-code.png\" height=300px />"
   ]
  }
 ],
 "metadata": {
  "kernelspec": {
   "display_name": "adila",
   "language": "python",
   "name": "python3"
  },
  "language_info": {
   "codemirror_mode": {
    "name": "ipython",
    "version": 3
   },
   "file_extension": ".py",
   "mimetype": "text/x-python",
   "name": "python",
   "nbconvert_exporter": "python",
   "pygments_lexer": "ipython3",
   "version": "3.7.16"
  }
 },
 "nbformat": 4,
 "nbformat_minor": 2
}
