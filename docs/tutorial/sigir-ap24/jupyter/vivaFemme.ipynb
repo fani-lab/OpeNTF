{
 "cells": [
  {
   "cell_type": "markdown",
   "metadata": {},
   "source": [
    "# What is `vivaFemme`?\n",
    "\n",
    "`vivaFemme` is an extension of the OpeNTF frameworking, focusing on improving the fairness of neural team formation methods. \n",
    "\n",
    "Currently, `vivaFemme` addresses gender bias in neural team recommendation models via an in-process loss-based method (i.e., by modifying the model's cross-entropy loss function). Loss is increased for false negative female experts, and `vivaFemme` randomly sample female experts and reinforce their participation in predicted teams.\n",
    "\n",
    "<img src=\"https://github.com/fani-lab/OpeNTF/raw/vivaFemme/VF.jpg\" height=300px />\n",
    "\n",
    "## Quickstart\n",
    "The following is a sample run of `vivaFemme` using a toy dataset modelled about the IMDB dataset. The arguments it employed are:\n",
    "\n",
    "- `-data`: the path of the raw dataset.\n",
    "- `-domain`: the domain of which the dataset belongs to (e.g., IMDB, DBLP).\n",
    "- `-model`: the neural team formation models (e.g., `fnn`, `bnn`).\n",
    "- `-filter`: remove outliers, if needed.\n",
    "- `-augment`: augment data, if needed.\n",
    "\n",
    "Other arguments, though not included in this run, is the same as `OpeNTF`'s arguments."
   ]
  },
  {
   "cell_type": "code",
   "execution_count": 22,
   "metadata": {},
   "outputs": [
    {
     "name": "stdout",
     "output_type": "stream",
     "text": [
      "[WinError 2] The system cannot find the file specified: 'src'\n",
      "c:\\Users\\tea-n_\\Documents\\GitHub\\OpeNTF framework\\vivaFemme\\src\n",
      "Loading sparse matrices from ./../data/preprocessed/imdb/toy.title.basics.tsv.filtered.mt75.ts3/teamsvecs.pkl ...\n",
      "File not found! Generating the sparse matrices ...\n",
      "Loading indexes pickle from ./../data/preprocessed/imdb/toy.title.basics.tsv.filtered.mt75.ts3/indexes.pkl ...\n",
      "It took 0.0009989738464355469 seconds to load from the pickles.\n",
      "Loading teams pickle from ./../data/preprocessed/imdb/toy.title.basics.tsv.filtered.mt75.ts3/teams.pkl ...\n",
      "It took 0.0 seconds to load from the pickles.\n"
     ]
    },
    {
     "name": "stderr",
     "output_type": "stream",
     "text": [
      "Traceback (most recent call last):\n",
      "  File \"c:\\Users\\tea-n_\\Documents\\GitHub\\OpeNTF framework\\vivaFemme\\src\\cmn\\team.py\", line 210, in generate_sparse_vectors\n",
      "    with open(pkl, 'rb') as infile: vecs = pickle.load(infile)\n",
      "FileNotFoundError: [Errno 2] No such file or directory: './../data/preprocessed/imdb/toy.title.basics.tsv.filtered.mt75.ts3/teamsvecs.pkl'\n",
      "\n",
      "During handling of the above exception, another exception occurred:\n",
      "\n",
      "Traceback (most recent call last):\n",
      "  File \"main.py\", line 232, in <module>\n",
      "    run(data_list=args.data_list,\n",
      "  File \"main.py\", line 140, in run\n",
      "    vecs, indexes = d_cls.generate_sparse_vectors(datapath, f'{prep_output}{filter_str}', filter, settings['data'])\n",
      "  File \"c:\\Users\\tea-n_\\Documents\\GitHub\\OpeNTF framework\\vivaFemme\\src\\cmn\\team.py\", line 223, in generate_sparse_vectors\n",
      "    func = partial(Team.bucketing, settings['bucket_size'], indexes['s2i'], indexes['c2i'], female_indices_list, indexes['l2i'], settings['location_type'])\n",
      "NameError: name 'female_indices_list' is not defined\n"
     ]
    }
   ],
   "source": [
    "%cd src\n",
    "!python -u main.py -data ../data/raw/imdb/toy.title.basics.tsv -domain imdb -model bnn -filter 1 -augment 1"
   ]
  },
  {
   "cell_type": "markdown",
   "metadata": {},
   "source": [
    "# Additional Resources\n",
    "- [`OpeNTF` codebase](https://github.com/fani-lab/OpeNTF/tree/main)\n",
    "- [`Adila` codebase](https://github.com/fani-lab/adila)\n",
    "- [`vivaFemme` codebase](https://github.com/fani-lab/OpeNTF/tree/vivaFemme)\n",
    "- [Streaming Training Strategy codebase](https://github.com/fani-lab/OpeNTF/tree/ecir24)\n",
    "- [Tutorial Website and Materials](https://fani-lab.github.io/OpeNTF/tutorial/umap24/)\n",
    "    - [`OpeNTF` paper](https://doi.org/10.1145/3511808.3557526)\n",
    "    - [`Adila` paper](https://doi.org/10.1007/978-3-031-37249-0_9)\n",
    "    - [`vivaFemme` paper](https://hosseinfani.github.io/res/papers/2024_BIAS_SIGIR_vivaFemme_Mitigating_Gender_Bias_in_Neural_Team_Recommendation_via_Female-Advocate_Loss_Regularization.pdf)\n",
    "    - [Streaming Training Strategy paper](https://link.springer.com/chapter/10.1007/978-3-031-56027-9_20)\n",
    "\n",
    "<img src=\"./qr-code.png\" height=300px />"
   ]
  }
 ],
 "metadata": {
  "kernelspec": {
   "display_name": "vivaFemme",
   "language": "python",
   "name": "python3"
  },
  "language_info": {
   "codemirror_mode": {
    "name": "ipython",
    "version": 3
   },
   "file_extension": ".py",
   "mimetype": "text/x-python",
   "name": "python",
   "nbconvert_exporter": "python",
   "pygments_lexer": "ipython3",
   "version": "3.8.19"
  }
 },
 "nbformat": 4,
 "nbformat_minor": 2
}
