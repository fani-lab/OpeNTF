{
  "nbformat": 4,
  "nbformat_minor": 0,
  "metadata": {
    "colab": {
      "name": "quickstart.ipynb",
      "provenance": [],
      "include_colab_link": true
    },
    "kernelspec": {
      "name": "python3",
      "display_name": "Python 3"
    },
    "language_info": {
      "name": "python"
    },
    "accelerator": "GPU",
    "gpuClass": "standard"
  },
  "cells": [
    {
      "cell_type": "markdown",
      "metadata": {
        "id": "view-in-github",
        "colab_type": "text"
      },
      "source": [
        "<a href=\"https://colab.research.google.com/github/fani-lab/OpeNTF/blob/main/ipynb/quickstart.ipynb\" target=\"_parent\"><img src=\"https://colab.research.google.com/assets/colab-badge.svg\" alt=\"Open In Colab\"/></a>"
      ]
    },
    {
      "cell_type": "markdown",
      "source": [
        "**Setup Python 3.8 on Colab Environment.**"
      ],
      "metadata": {
        "id": "hsO795wNk9WL"
      }
    },
    {
      "cell_type": "code",
      "execution_count": null,
      "metadata": {
        "colab": {
          "base_uri": "https://localhost:8080/"
        },
        "id": "yzuvvMImFFWg",
        "outputId": "106067fc-f319-4776-babd-4f725521d4b6"
      },
      "outputs": [
        {
          "output_type": "stream",
          "name": "stdout",
          "text": [
            "\r0% [Working]\r            \rHit:1 https://cli.github.com/packages stable InRelease\n",
            "\r0% [Connecting to archive.ubuntu.com (185.125.190.81)] [Connecting to security.\r                                                                               \rHit:2 https://cloud.r-project.org/bin/linux/ubuntu jammy-cran40/ InRelease\n",
            "\r0% [Connecting to archive.ubuntu.com (185.125.190.81)] [Connecting to security.\r0% [Connecting to archive.ubuntu.com (185.125.190.81)] [Waiting for headers] [C\r                                                                               \rHit:3 https://developer.download.nvidia.com/compute/cuda/repos/ubuntu2204/x86_64  InRelease\n",
            "Hit:4 http://security.ubuntu.com/ubuntu jammy-security InRelease\n",
            "Hit:5 http://archive.ubuntu.com/ubuntu jammy InRelease\n",
            "Hit:6 https://r2u.stat.illinois.edu/ubuntu jammy InRelease\n",
            "Hit:7 http://archive.ubuntu.com/ubuntu jammy-updates InRelease\n",
            "Hit:8 http://archive.ubuntu.com/ubuntu jammy-backports InRelease\n",
            "Hit:9 https://ppa.launchpadcontent.net/deadsnakes/ppa/ubuntu jammy InRelease\n",
            "Hit:10 https://ppa.launchpadcontent.net/graphics-drivers/ppa/ubuntu jammy InRelease\n",
            "Hit:11 https://ppa.launchpadcontent.net/ubuntugis/ppa/ubuntu jammy InRelease\n",
            "Reading package lists... Done\n",
            "W: Skipping acquire of configured file 'main/source/Sources' as repository 'https://r2u.stat.illinois.edu/ubuntu jammy InRelease' does not seem to provide it (sources.list entry misspelt?)\n",
            "Reading package lists... Done\n",
            "Building dependency tree... Done\n",
            "Reading state information... Done\n",
            "python3.8 is already the newest version (3.8.20-1+jammy1).\n",
            "0 upgraded, 0 newly installed, 0 to remove and 37 not upgraded.\n",
            "Python 3.8.20\n"
          ]
        }
      ],
      "source": [
        "!sudo apt-get update -y\n",
        "!sudo apt-get install python3.8 -y\n",
        "!sudo update-alternatives --install /usr/bin/python3 python3 /usr/bin/python3.8 10\n",
        "!python --version"
      ]
    },
    {
      "cell_type": "markdown",
      "source": [
        "**Installing OpeNTF in an Environment**"
      ],
      "metadata": {
        "id": "6tKkPogYlQxR"
      }
    },
    {
      "cell_type": "code",
      "source": [
        "# %rm -R opentf/\n",
        "# !git clone https://github.com/Fani-Lab/opentf\n",
        "\n",
        "!sudo apt-get install python3-pip\n",
        "!pip install --upgrade pip\n",
        "%rm -R opentf_venv/\n",
        "!python -m venv opentf_venv\n",
        "!source opentf_venv/bin/activate #non-windows #opentf_venv\\Scripts\\activate #windows\n",
        "!opentf_venv/bin/pip install --upgrade pip\n",
        "!opentf_venv/bin/pip install -r requirements.txt"
      ],
      "metadata": {
        "colab": {
          "base_uri": "https://localhost:8080/"
        },
        "id": "fwIEGOF9FT4U",
        "outputId": "02e5383f-4211-4bc4-bf6f-e00b2cd443bb"
      },
      "execution_count": null,
      "outputs": [
        {
          "output_type": "stream",
          "name": "stdout",
          "text": [
            "Traceback (most recent call last):\n",
            "  File \"/usr/local/bin/pip3\", line 4, in <module>\n",
            "    from pip._internal.cli.main import main\n",
            "  File \"/usr/lib/python3/dist-packages/pip/_internal/cli/main.py\", line 9, in <module>\n",
            "    from pip._internal.cli.autocompletion import autocomplete\n",
            "  File \"/usr/lib/python3/dist-packages/pip/_internal/cli/autocompletion.py\", line 10, in <module>\n",
            "    from pip._internal.cli.main_parser import create_main_parser\n",
            "  File \"/usr/lib/python3/dist-packages/pip/_internal/cli/main_parser.py\", line 8, in <module>\n",
            "    from pip._internal.cli import cmdoptions\n",
            "  File \"/usr/lib/python3/dist-packages/pip/_internal/cli/cmdoptions.py\", line 23, in <module>\n",
            "    from pip._internal.cli.parser import ConfigOptionParser\n",
            "  File \"/usr/lib/python3/dist-packages/pip/_internal/cli/parser.py\", line 12, in <module>\n",
            "    from pip._internal.configuration import Configuration, ConfigurationError\n",
            "  File \"/usr/lib/python3/dist-packages/pip/_internal/configuration.py\", line 26, in <module>\n",
            "    from pip._internal.utils.logging import getLogger\n",
            "  File \"/usr/lib/python3/dist-packages/pip/_internal/utils/logging.py\", line 27, in <module>\n",
            "    from pip._internal.utils.misc import ensure_dir\n",
            "  File \"/usr/lib/python3/dist-packages/pip/_internal/utils/misc.py\", line 39, in <module>\n",
            "    from pip._internal.locations import get_major_minor_version\n",
            "  File \"/usr/lib/python3/dist-packages/pip/_internal/locations/__init__.py\", line 14, in <module>\n",
            "    from . import _distutils, _sysconfig\n",
            "  File \"/usr/lib/python3/dist-packages/pip/_internal/locations/_distutils.py\", line 9, in <module>\n",
            "    from distutils.cmd import Command as DistutilsCommand\n",
            "ModuleNotFoundError: No module named 'distutils.cmd'\n"
          ]
        }
      ]
    },
    {
      "cell_type": "markdown",
      "source": [
        "**Download Datasets**"
      ],
      "metadata": {
        "id": "X3Hh3UqoGamp"
      }
    },
    {
      "cell_type": "markdown",
      "source": [
        "dblp"
      ],
      "metadata": {
        "id": "ia7rn1gcIG4-"
      }
    },
    {
      "cell_type": "code",
      "source": [
        "#!apt-get install --assume-yes p7zip-full\n",
        "#!wget -O ../data/raw/dblp/dblp.v12.7z https://originalstatic.aminer.cn/misc/dblp.v12.7z\n",
        "#!7z e ../data/raw/dblp/dblp.v12.7z -o../data/raw/dblp/"
      ],
      "metadata": {
        "id": "RBZJO6ROGZ3U"
      },
      "execution_count": null,
      "outputs": []
    },
    {
      "cell_type": "markdown",
      "source": [
        "imdb"
      ],
      "metadata": {
        "id": "fym1KH8HIJwd"
      }
    },
    {
      "cell_type": "code",
      "source": [
        "#!apt-get install --assume-yes p7zip-full\n",
        "#!wget -O ../data/raw/imdb/name.basics.tsv.gz https://datasets.imdbws.com/name.basics.tsv.gz\n",
        "#!wget -O ../data/raw/imdb/title.basics.tsv.gz https://datasets.imdbws.com/title.basics.tsv.gz\n",
        "#!wget -O ../data/raw/imdb/title.principals.tsv.gz https://datasets.imdbws.com/title.principals.tsv.gz\n",
        "#!7z e ../data/raw/imdb/name.basics.tsv.gz -o../data/raw/imdb/\n",
        "#!mv ../data/raw/imdb/data.tsv ../data/raw/imdb/name.basics.tsv\n",
        "#!7z e ../data/raw/imdb/title.basics.tsv.gz -o../data/raw/imdb/\n",
        "#!mv ../data/raw/imdb/data.tsv ../data/raw/imdb/title.basics.tsv\n",
        "#!7z e ../data/raw/imdb/title.principals.tsv.gz -o../data/raw/imdb/\n",
        "#!mv ../data/raw/imdb/data.tsv ../data/raw/imdb/title.principals.tsv"
      ],
      "metadata": {
        "id": "inLPKBgwIOjt"
      },
      "execution_count": null,
      "outputs": []
    },
    {
      "cell_type": "markdown",
      "source": [
        "uspt"
      ],
      "metadata": {
        "id": "9JDO5dgPILXl"
      }
    },
    {
      "cell_type": "code",
      "source": [
        "\n",
        "# !opentf/bin/pip install -r requirements.txt\n",
        "# !opentf/bin/pip install ipykernel\n",
        "# import sys\n",
        "# sys.path.append(\"opentf/lib/python3.8/site-packages\")\n",
        "# %cd src/"
      ],
      "metadata": {
        "id": "JJuAR3KLgAi_"
      },
      "execution_count": null,
      "outputs": []
    },
    {
      "cell_type": "markdown",
      "source": [
        "**Default Hyperparameters**"
      ],
      "metadata": {
        "id": "a4G4Omoolyvp"
      }
    },
    {
      "cell_type": "code",
      "source": [
        "!cat param.py"
      ],
      "metadata": {
        "colab": {
          "base_uri": "https://localhost:8080/"
        },
        "id": "GG0nCDddl5w6",
        "outputId": "d1a0b4f3-bf93-4b89-a70b-4ca17d5b467b"
      },
      "execution_count": null,
      "outputs": [
        {
          "output_type": "stream",
          "name": "stdout",
          "text": [
            "import random\n",
            "import torch\n",
            "import numpy as np\n",
            "\n",
            "random.seed(0)\n",
            "torch.manual_seed(0)\n",
            "torch.cuda.manual_seed_all(0)\n",
            "\n",
            "np.random.seed(0)\n",
            "\n",
            "settings = {\n",
            "    'model':{\n",
            "        'baseline': {\n",
            "            'random': {\n",
            "                'b': 4096\n",
            "            },\n",
            "            'fnn':{\n",
            "                'l': [100],  # list of number of nodes in each layer\n",
            "                'lr': 0.1,  # learning rate\n",
            "                'b': 4096,  # batch size\n",
            "                'e': 20,  # epoch\n",
            "                'nns': None,  # number of negative samples\n",
            "                'ns': None,  # 'uniform', 'unigram', 'unigram_b'\n",
            "            },\n",
            "            'bnn':{\n",
            "                'l': [100],  # list of number of nodes in each layer\n",
            "                'lr': 0.1,  # learning rate\n",
            "                'b': 4096,  # batch size\n",
            "                'e': 20,  # epoch\n",
            "                'nns': None,  # number of negative samples\n",
            "                'ns': None,  # 'uniform', 'unigram', 'unigram_b'\n",
            "                's': 1  # # sample_elbo for bnn\n",
            "            },\n",
            "            'nmt': {\n",
            "                'base_config': './mdl/nmt_config.yaml'\n",
            "            },\n",
            "            'emb':{\n",
            "                'd': 100,# embedding dimension\n",
            "                'e': 100,# epoch\n",
            "                'dm': 1,# training algorithm. 1: distributed memory (PV-DM), 0: distributed bag of words (PV-DBOW)\n",
            "                'w': 1 #cooccurrence window\n",
            "            }\n",
            "        },\n",
            "        'cmd': ['train', 'test', 'eval', 'plot', 'agg'],  # 'train', 'test', 'eval', 'plot', 'agg'\n",
            "        'nfolds': 3,\n",
            "        'train_test_split': 0.85,\n",
            "        'step_ahead': 2,\n",
            "    },\n",
            "    'data':{\n",
            "        'domain': {\n",
            "            'dblp':{},\n",
            "            'uspt':{},\n",
            "            'imdb':{},\n",
            "        },\n",
            "        'filter': {\n",
            "            'min_nteam': 75,\n",
            "            'min_team_size': 3,\n",
            "        },\n",
            "        'parallel': 1,\n",
            "        'ncore': 0,# <= 0 for all\n",
            "        'bucket_size': 500\n",
            "    },\n",
            "}\n"
          ]
        }
      ]
    },
    {
      "cell_type": "markdown",
      "source": [
        "**Change Hyperparameters, e.g., Negative Sampling Heuristics and Number of Negative Samples**\n",
        "```\n",
        "settings['model']['baseline']['fnn']['ns'] = 'uniform'\n",
        "settings['model']['baseline']['fnn']['nns'] = 1\n",
        "settings['model']['baseline']['bnn']['ns'] = 'unigram_b'\n",
        "settings['model']['baseline']['bnn']['nns'] = 2\n",
        "```\n",
        "\n"
      ],
      "metadata": {
        "id": "DbBMkT-2GUyn"
      }
    },
    {
      "cell_type": "markdown",
      "source": [
        "**Clearing Cache Pickles for Teams Sparse Matrix if Exist`(Optional)`**"
      ],
      "metadata": {
        "id": "a-hr8hQxVS64"
      }
    },
    {
      "cell_type": "code",
      "source": [
        "!rm -R ../data/preprocessed/dblp/toy.dblp.v12.json/\n",
        "!rm -R ../data/preprocessed/imdb/toy.title.basics.tsv/\n",
        "!rm -R ../data/preprocessed/uspt/toy.patent.tsv/"
      ],
      "metadata": {
        "id": "xR1R1nUpVSLg"
      },
      "execution_count": null,
      "outputs": []
    },
    {
      "cell_type": "markdown",
      "source": [
        "**Benchmark on Toy subsets of DBLP for non-Bayesian Feedforward (fnn) and Bayesian (bnn) Models as well as Random Baseline**"
      ],
      "metadata": {
        "id": "o41hWOnFoiVI"
      }
    },
    {
      "cell_type": "code",
      "source": [
        "!../opentf/bin/python3 main.py -data ../data/raw/dblp/toy.dblp.v12.json -domain dblp -model  fnn tfnn fnn_emb tfnn_emb tfnn_dt2v_emb bnn tbnn bnn_emb tbnn_emb tbnn_dt2v_emb random\n",
        "#../opentf/bin/python3 main.py -data ../data/raw/dblp/dblp.v12.json ../data/raw/imdb/title.basics.tsv ../data/raw/uspt/patent.tsv -domain dblp imdb uspt -model fnn tfnn fnn_emb tfnn_emb tfnn_dt2v_emb bnn tbnn bnn_emb tbnn_emb tbnn_dt2v_emb random"
      ],
      "metadata": {
        "id": "xBUkUAFyIXAD"
      },
      "execution_count": null,
      "outputs": []
    },
    {
      "cell_type": "markdown",
      "source": [
        "**Benchmark Output Folder on `dblp` for Baselines**"
      ],
      "metadata": {
        "id": "-Q06TnofpXeo"
      }
    },
    {
      "cell_type": "code",
      "source": [
        "!ls ../output/toy.dblp.v12.json/"
      ],
      "metadata": {
        "colab": {
          "base_uri": "https://localhost:8080/"
        },
        "id": "Ion5hv6viDa2",
        "outputId": "ad8a942b-0cdc-43a7-bbfa-91d5c8906aca"
      },
      "execution_count": null,
      "outputs": [
        {
          "output_type": "stream",
          "name": "stdout",
          "text": [
            "bnn\t\t\t\tfnn\t       tbnn_emb\n",
            "bnn_emb\t\t\t\tfnn_emb        test.pred.eval.mean.agg.csv\n",
            "f0.test.pred.eval.mean.agg.csv\trandom\t       tfnn\n",
            "f1.test.pred.eval.mean.agg.csv\ttbnn\t       tfnn_dt2v_emb\n",
            "f2.test.pred.eval.mean.agg.csv\ttbnn_dt2v_emb  tfnn_emb\n"
          ]
        }
      ]
    },
    {
      "cell_type": "markdown",
      "source": [
        "**Let's look at the Bayesian (bnn) Results for `dblp`**\n",
        "\n",
        "```\n",
        "#team:31, #skills:11, #members:13\n",
        "layers:[100], learning rate:0.1, batch size:4096, epoch:20,\n",
        "#negative samples:2, negative sampling: unigram_b, elbo samples:1\n",
        "```"
      ],
      "metadata": {
        "id": "AMe6O86CpuPH"
      }
    },
    {
      "cell_type": "code",
      "source": [
        "!ls ../output/toy.dblp.v12.json/tbnn_emb/t31.s100.m13.l[128].lr0.1.b4.e20.nns3.nsunigram_b.s1\n",
        "!ls ../output/toy.dblp.v12.json/tbnn_emb/t31.s100.m13.l[128].lr0.1.b4.e20.nns3.nsunigram_b.s1/2004"
      ],
      "metadata": {
        "id": "c5P-YCCFkAkg"
      },
      "execution_count": null,
      "outputs": []
    },
    {
      "cell_type": "markdown",
      "source": [
        "**ROC Plot for 2-Fold Cross-Validated Models on Test Set**"
      ],
      "metadata": {
        "id": "KhtwppXbrEEc"
      }
    },
    {
      "cell_type": "code",
      "source": [
        "from IPython.display import Image\n",
        "Image('../output/toy.dblp.v12.json/tbnn_emb/t31.s100.m13.l[128].lr0.1.b4.e20.nns3.nsunigram_b.s1/2004/test.roc.png')"
      ],
      "metadata": {
        "id": "-75NPqckkbGm"
      },
      "execution_count": null,
      "outputs": []
    },
    {
      "cell_type": "code",
      "source": [
        "import pandas as pd\n",
        "pd.read_csv('../output/toy.dblp.v12.json/tbnn_emb/t31.s100.m13.l[128].lr0.1.b4.e20.nns3.nsunigram_b.s1/2004/test.pred.eval.mean.csv', index_col = 0)"
      ],
      "metadata": {
        "id": "bdooeMNexjjl"
      },
      "execution_count": null,
      "outputs": []
    }
  ]
}